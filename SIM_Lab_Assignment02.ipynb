{
  "nbformat": 4,
  "nbformat_minor": 0,
  "metadata": {
    "colab": {
      "provenance": [],
      "authorship_tag": "ABX9TyMfaj/uW+hsnCyxQmRbiZsq",
      "include_colab_link": true
    },
    "kernelspec": {
      "name": "python3",
      "display_name": "Python 3"
    },
    "language_info": {
      "name": "python"
    }
  },
  "cells": [
    {
      "cell_type": "markdown",
      "metadata": {
        "id": "view-in-github",
        "colab_type": "text"
      },
      "source": [
        "<a href=\"https://colab.research.google.com/github/sharminema05/Assignment/blob/main/SIM_Lab_Assignment02.ipynb\" target=\"_parent\"><img src=\"https://colab.research.google.com/assets/colab-badge.svg\" alt=\"Open In Colab\"/></a>"
      ]
    },
    {
      "cell_type": "code",
      "execution_count": 10,
      "metadata": {
        "colab": {
          "base_uri": "https://localhost:8080/"
        },
        "id": "EaTlOghG3-gC",
        "outputId": "fd1d1fc8-bdf6-4d7e-9978-f54e149c4c84"
      },
      "outputs": [
        {
          "output_type": "stream",
          "name": "stdout",
          "text": [
            "Random Matrix:\n",
            " [[37 48 12]\n",
            " [25 44 34]\n",
            " [ 9 37 15]] \n",
            "\n"
          ]
        }
      ],
      "source": [
        "import numpy as np\n",
        "# Generating a 3×3 matrix of random integers between 1 and 50\n",
        "matrix = np.random.randint(1, 50, (3, 3))\n",
        "print(\"Random Matrix:\\n\",matrix,\"\\n\")"
      ]
    },
    {
      "cell_type": "code",
      "source": [
        "# Generating a 3×3 matrix of random integers between 1 and 50\n",
        "matrix = np.random.randint(1, 50, (3, 3))\n",
        "print(\"Random Matrix:\\n\",matrix,\"\\n\")\n",
        "\n",
        "# With fixed seed\n",
        "np.random.seed(10)\n",
        "matrix_fixed_seed = np.random.randint(1, 51, (3, 3))\n",
        "\n",
        "# Without fixed seed\n",
        "matrix_without_fixed_seed = np.random.randint(1, 51, (3, 3))\n",
        "print(\"Matrix setting fixed seed:\\n\",matrix_fixed_seed)\n",
        "print(\"\\nMatrix without fixed seed:\\n\",matrix_without_fixed_seed)\n",
        "\n",
        "# With Fixed Seed: The numbers stay the same every time you run the code because the seed locks the random order.\n",
        "# Without Fixed Seed: The numbers change each time you run the code because there is no set starting point.\n"
      ],
      "metadata": {
        "colab": {
          "base_uri": "https://localhost:8080/"
        },
        "id": "nNDhOawXBWZe",
        "outputId": "99e793fb-294b-4465-bda4-36fe3bb49ed6"
      },
      "execution_count": 11,
      "outputs": [
        {
          "output_type": "stream",
          "name": "stdout",
          "text": [
            "Random Matrix:\n",
            " [[14  6 14]\n",
            " [26 14 29]\n",
            " [23 31 31]] \n",
            "\n",
            "Matrix setting fixed seed:\n",
            " [[10 37 16]\n",
            " [ 1 50 29]\n",
            " [26 30 49]]\n",
            "\n",
            "Matrix without fixed seed:\n",
            " [[30 50  9]\n",
            " [10  1 43]\n",
            " [41 37 17]]\n"
          ]
        }
      ]
    }
  ]
}