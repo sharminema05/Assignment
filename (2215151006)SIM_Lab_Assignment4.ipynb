{
  "nbformat": 4,
  "nbformat_minor": 0,
  "metadata": {
    "colab": {
      "provenance": [],
      "authorship_tag": "ABX9TyN2Ix/mRijvUC4Yr3ECN4pm",
      "include_colab_link": true
    },
    "kernelspec": {
      "name": "python3",
      "display_name": "Python 3"
    },
    "language_info": {
      "name": "python"
    }
  },
  "cells": [
    {
      "cell_type": "markdown",
      "metadata": {
        "id": "view-in-github",
        "colab_type": "text"
      },
      "source": [
        "<a href=\"https://colab.research.google.com/github/sharminema05/Assignment/blob/main/(2215151006)SIM_Lab_Assignment4.ipynb\" target=\"_parent\"><img src=\"https://colab.research.google.com/assets/colab-badge.svg\" alt=\"Open In Colab\"/></a>"
      ]
    },
    {
      "cell_type": "code",
      "execution_count": 5,
      "metadata": {
        "id": "7x2tIYGjjjVv",
        "colab": {
          "base_uri": "https://localhost:8080/",
          "height": 512
        },
        "outputId": "d33664f6-e942-4a08-9f00-89299d3001dc"
      },
      "outputs": [
        {
          "output_type": "stream",
          "name": "stdout",
          "text": [
            "Sample 1 Mean: 47.75\n",
            "Sample 2 Mean: 55.21\n",
            "t-Statistic: -3.76\n",
            "Degrees of Freedom: 96.70\n",
            "p-Value: 0.0003\n",
            "Confidence Interval of Mean Difference: [-10.77, -4.17]\n",
            "Reject the null hypothesis. The means of the two samples are significantly different.\n"
          ]
        },
        {
          "output_type": "display_data",
          "data": {
            "text/plain": [
              "<Figure size 600x400 with 1 Axes>"
            ],
            "image/png": "[encoded data removed]"
          },
          "metadata": {}
        }
      ],
      "source": [
        "import numpy as np\n",
        "from scipy import stats\n",
        "import matplotlib.pyplot as plt\n",
        "\n",
        "# Set seed for reproducibility\n",
        "np.random.seed(42)\n",
        "\n",
        "# Generate random samples from normal distributions\n",
        "mu1, sigma1, n1 = 50, 10, 50  # Mean, standard deviation, sample size for sample 1\n",
        "mu2, sigma2, n2 = 55, 12, 50  # Mean, standard deviation, sample size for sample 2\n",
        "\n",
        "data1 = np.random.normal(mu1, sigma1, n1)  # Sample 1 data\n",
        "data2 = np.random.normal(mu2, sigma2, n2)  # Sample 2 data\n",
        "\n",
        "# Perform independent two-sample t-test (Welch's t-test)\n",
        "t_statistic, p_value = stats.ttest_ind(data1, data2, equal_var=False)\n",
        "\n",
        "# Calculate mean difference, standard error, degrees of freedom, and confidence interval\n",
        "mean_diff = np.mean(data1) - np.mean(data2)  # Mean difference\n",
        "std_err = np.sqrt(np.var(data1, ddof=1)/n1 + np.var(data2, ddof=1)/n2)  # Standard error\n",
        "\n",
        "# Calculate degrees of freedom (using Welch-Satterthwaite equation)\n",
        "df = (std_err**4) / ((np.var(data1, ddof=1)/n1)**2 / (n1-1) + (np.var(data2, ddof=1)/n2)**2 / (n2-1))\n",
        "ci = stats.t.interval(0.90, df, loc=mean_diff, scale=std_err)\n",
        "\n",
        "# Print statistical results\n",
        "print(f\"Sample 1 Mean: {np.mean(data1):.2f}\")\n",
        "print(f\"Sample 2 Mean: {np.mean(data2):.2f}\")\n",
        "print(f\"t-Statistic: {t_statistic:.2f}\")\n",
        "print(f\"Degrees of Freedom: {df:.2f}\")\n",
        "print(f\"p-Value: {p_value:.4f}\")\n",
        "print(f\"Confidence Interval of Mean Difference: [{ci[0]:.2f}, {ci[1]:.2f}]\")\n",
        "\n",
        "# Hypothesis testing decision\n",
        "alpha = 0.05\n",
        "if p_value < alpha:\n",
        "    print(\"Reject the null hypothesis. The means of the two samples are significantly different.\")\n",
        "else:\n",
        "    print(\"Fail to reject the null hypothesis. The means of the two samples are not significantly different.\")\n",
        "\n",
        "# Visualization of the means with error bars\n",
        "plt.figure(figsize=(6, 4))\n",
        "plt.bar([\"Sample 1\", \"Sample 2\"], [np.mean(data1), np.mean(data2)], color=['black', 'red'], alpha=0.7)\n",
        "plt.errorbar([0, 1], [np.mean(data1), np.mean(data2)], yerr=[np.std(data1)/np.sqrt(n1), np.std(data2)/np.sqrt(n2)], fmt='k_', capsize=10)\n",
        "plt.title(\"Comparison of Sample Means\")\n",
        "plt.ylabel(\"Mean Value\")\n",
        "plt.grid(True)\n",
        "plt.show()\n",
        "\n",
        "# Conclusion:\n",
        "# Based on the two-sample t-test, the p-value (0.00029) is less than the significance level (0.05),\n",
        "# which leads to rejecting the null hypothesis. Therefore, we conclude that there is a\n",
        "# statistically significant difference between the means of the two samples.\n"
      ]
    }
  ]
}